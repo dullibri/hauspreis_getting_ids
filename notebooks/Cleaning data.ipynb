{
 "cells": [
  {
   "cell_type": "code",
   "execution_count": 5,
   "id": "civilian-clinic",
   "metadata": {},
   "outputs": [
    {
     "ename": "ImportError",
     "evalue": "attempted relative import with no known parent package",
     "output_type": "error",
     "traceback": [
      "\u001b[0;31m---------------------------------------------------------------------------\u001b[0m",
      "\u001b[0;31mImportError\u001b[0m                               Traceback (most recent call last)",
      "\u001b[0;32m<ipython-input-5-1e2a1b5e14f4>\u001b[0m in \u001b[0;36m<module>\u001b[0;34m\u001b[0m\n\u001b[1;32m      9\u001b[0m \u001b[0;32mfrom\u001b[0m \u001b[0mdatetime\u001b[0m \u001b[0;32mimport\u001b[0m \u001b[0mdate\u001b[0m\u001b[0;34m\u001b[0m\u001b[0;34m\u001b[0m\u001b[0m\n\u001b[1;32m     10\u001b[0m \u001b[0;32mfrom\u001b[0m \u001b[0mimportlib\u001b[0m \u001b[0;32mimport\u001b[0m \u001b[0mreload\u001b[0m\u001b[0;34m\u001b[0m\u001b[0;34m\u001b[0m\u001b[0m\n\u001b[0;32m---> 11\u001b[0;31m \u001b[0;32mfrom\u001b[0m \u001b[0;34m.\u001b[0m\u001b[0;34m.\u001b[0m\u001b[0mcleaning\u001b[0m \u001b[0;32mimport\u001b[0m \u001b[0;34m*\u001b[0m\u001b[0;34m\u001b[0m\u001b[0;34m\u001b[0m\u001b[0m\n\u001b[0m\u001b[1;32m     12\u001b[0m \u001b[0mreload\u001b[0m\u001b[0;34m(\u001b[0m\u001b[0mcleaning\u001b[0m\u001b[0;34m)\u001b[0m\u001b[0;34m\u001b[0m\u001b[0;34m\u001b[0m\u001b[0m\n",
      "\u001b[0;31mImportError\u001b[0m: attempted relative import with no known parent package"
     ]
    }
   ],
   "source": [
    "import os\n",
    "import re\n",
    "import json\n",
    "from sklearn.preprocessing import MultiLabelBinarizer \n",
    "import itertools\n",
    "import pandas as pd\n",
    "import numpy as np\n",
    "import webbrowser\n",
    "from datetime import date\n",
    "from importlib import reload\n",
    "from cleaning import *\n",
    "reload(cleaning)\n"
   ]
  },
  {
   "cell_type": "code",
   "execution_count": 10,
   "id": "editorial-batman",
   "metadata": {},
   "outputs": [
    {
     "name": "stdout",
     "output_type": "stream",
     "text": [
      "None\n"
     ]
    }
   ],
   "source": [
    "print(os.chdir(\"..\"))"
   ]
  },
  {
   "cell_type": "code",
   "execution_count": null,
   "id": "responsible-watch",
   "metadata": {},
   "outputs": [],
   "source": [
    "df = load_and_prepare_data(location=\"notebook\")\n"
   ]
  },
  {
   "cell_type": "code",
   "execution_count": null,
   "id": "center-frank",
   "metadata": {},
   "outputs": [],
   "source": [
    "str(pd.to_datetime('today').date())"
   ]
  },
  {
   "cell_type": "code",
   "execution_count": null,
   "id": "caring-membership",
   "metadata": {},
   "outputs": [],
   "source": [
    "df[\n",
    "    (df.preis.isna()==0)\n",
    "    &(df.suchOrt==\"norderstedt\")\n",
    "    &(df.transaktionsArt==\"mieten\")\n",
    "    &(df[\"datumDownload\"]=='2021-04-24')#pd.to_datetime('today').normalize())\n",
    "]"
   ]
  },
  {
   "cell_type": "code",
   "execution_count": null,
   "id": "eight-dinner",
   "metadata": {},
   "outputs": [],
   "source": [
    "interessanteCols = [\"preis\",\"anzahl_raeume\",\"wohnflaeche\",\"transaktionsArt\",\"url\",\"datumDownload\",\"plz\"]\n"
   ]
  },
  {
   "cell_type": "code",
   "execution_count": null,
   "id": "former-honolulu",
   "metadata": {},
   "outputs": [],
   "source": [
    "mask = ((df[\"anzahl_raeume\"]>=3) \n",
    "        #& (df[\"wohnflaeche\"]>100) \n",
    "        & (df[\"transaktionsArt\"]==\"mieten\") \n",
    "        #& (df[\"preis\"]<1500)\n",
    "        & (df[\"datumDownload\"]==pd.to_datetime('today').normalize())\n",
    "        #& (df[\"plz\"]!=\"24568\")\n",
    "       )\n",
    "(df.loc[mask,interessanteCols].sort_values(by=[\"datumDownload\"],ascending=False))"
   ]
  },
  {
   "cell_type": "code",
   "execution_count": null,
   "id": "after-ceiling",
   "metadata": {},
   "outputs": [],
   "source": [
    "mask = ((df[\"anzahl_raeume\"]>=4) \n",
    "        & (df[\"wohnflaeche\"]>120) \n",
    "        & (df[\"transaktionsArt\"]==\"kaufen\") \n",
    "        & (df[\"preis\"]<500000)\n",
    "        & (df[\"datumDownload\"]==pd.to_datetime('today').normalize())\n",
    "       # & (df[\"plz\"]!=\"24568\")\n",
    "        #& (df[\"plz\"]!=\"29493\")\n",
    "       )\n",
    "subsel = (df.loc[mask,interessanteCols]\n",
    " .sort_values(by=[\"preis\",\"anzahl_raeume\"])\n",
    ")\n",
    "subsel"
   ]
  },
  {
   "cell_type": "code",
   "execution_count": null,
   "id": "industrial-sussex",
   "metadata": {},
   "outputs": [],
   "source": [
    "\n",
    "firefoxPath = \"/Applications/Firefox.app/Contents/MacOS\"\n",
    "client = webbrowser.get(\"open -a /Applications/Firefox.app %s\")\n",
    "for url in subsel.url:\n",
    "    client.open(url)"
   ]
  },
  {
   "cell_type": "code",
   "execution_count": null,
   "id": "usual-frost",
   "metadata": {},
   "outputs": [],
   "source": []
  }
 ],
 "metadata": {
  "kernelspec": {
   "display_name": "hauspreis_getting_ids",
   "language": "python",
   "name": "hauspreis_getting_ids"
  },
  "language_info": {
   "codemirror_mode": {
    "name": "ipython",
    "version": 3
   },
   "file_extension": ".py",
   "mimetype": "text/x-python",
   "name": "python",
   "nbconvert_exporter": "python",
   "pygments_lexer": "ipython3",
   "version": "3.8.5"
  }
 },
 "nbformat": 4,
 "nbformat_minor": 5
}
